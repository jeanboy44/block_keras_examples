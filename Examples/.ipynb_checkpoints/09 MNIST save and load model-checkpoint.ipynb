{
 "cells": [
  {
   "cell_type": "code",
   "execution_count": 1,
   "metadata": {},
   "outputs": [
    {
     "name": "stderr",
     "output_type": "stream",
     "text": [
      "Using TensorFlow backend.\n"
     ]
    },
    {
     "name": "stdout",
     "output_type": "stream",
     "text": [
      "Train on 42000 samples, validate on 18000 samples\n",
      "Epoch 1/5\n",
      "42000/42000 [==============================] - 9s 209us/step - loss: 2.0930 - acc: 0.2228 - val_loss: 1.9767 - val_acc: 0.3069\n",
      "Epoch 2/5\n",
      "42000/42000 [==============================] - 4s 104us/step - loss: 1.7643 - acc: 0.3731 - val_loss: 1.6271 - val_acc: 0.4132\n",
      "Epoch 3/5\n",
      "42000/42000 [==============================] - 4s 101us/step - loss: 1.5666 - acc: 0.4347 - val_loss: 1.5000 - val_acc: 0.4507\n",
      "Epoch 4/5\n",
      "42000/42000 [==============================] - 4s 102us/step - loss: 1.4698 - acc: 0.4583 - val_loss: 1.4231 - val_acc: 0.4671\n",
      "Epoch 5/5\n",
      "42000/42000 [==============================] - 4s 101us/step - loss: 1.3970 - acc: 0.4799 - val_loss: 1.3542 - val_acc: 0.5048\n",
      "10000/10000 [==============================] - 0s 31us/step\n",
      "\n",
      "loss_and_metrics : [1.3478375841140746, 0.5055]\n"
     ]
    }
   ],
   "source": [
    "# 86p\n",
    "\n",
    "# 0. 사용할 패키지 불러오기\n",
    "from keras.utils import np_utils\n",
    "from keras.datasets import mnist\n",
    "from keras.models import Sequential\n",
    "from keras.layers import Dense, Activation\n",
    "import numpy as np\n",
    "from numpy import argmax\n",
    "\n",
    "# 1. 데이터셋 생성하기\n",
    "\n",
    "# 훈련셋과 시험셋 불러오기\n",
    "(x_train, y_train), (x_test, y_test) = mnist.load_data()\n",
    "\n",
    "# 데이터셋 전처리\n",
    "x_train = x_train.reshape(60000, 784).astype('float32') / 255.0\n",
    "x_test = x_test.reshape(10000, 784).astype('float32') / 255.0\n",
    "\n",
    "# 라원핫인코딩 (one-hot encoding) 처리\n",
    "y_train = np_utils.to_categorical(y_train)\n",
    "y_test = np_utils.to_categorical(y_test)\n",
    "\n",
    "# 훈련셋과 검증셋 분리\n",
    "x_val = x_train[42000:] # 훈련셋의 30%를 검증셋으로 사용\n",
    "x_train = x_train[:42000]\n",
    "y_val = y_train[42000:] # 훈련셋의 30%를 검증셋으로 사용\n",
    "y_train = y_train[:42000]\n",
    "\n",
    "# 2. 모델 구성하기\n",
    "model = Sequential()\n",
    "model.add(Dense(units=2, input_dim=28*28, activation='relu'))\n",
    "model.add(Dense(units=10, activation='softmax'))\n",
    "\n",
    "# 3. 모델 학습과정 설정하기\n",
    "model.compile(loss='categorical_crossentropy', optimizer='sgd', metrics=['accuracy'])\n",
    "\n",
    "# 4. 모델 학습시키기\n",
    "model.fit(x_train, y_train, epochs=5, batch_size=32, validation_data=(x_val, y_val))\n",
    "\n",
    "# 5. 모델 평가하기\n",
    "loss_and_metrics = model.evaluate(x_test, y_test, batch_size=32)\n",
    "\n",
    "print('')\n",
    "print('loss_and_metrics : ' + str(loss_and_metrics))\n",
    "\n",
    "# 6. 모델 저장하기\n",
    "from keras.models import load_model\n",
    "model.save('mnist_mlp_model.h5')"
   ]
  },
  {
   "cell_type": "code",
   "execution_count": null,
   "metadata": {},
   "outputs": [],
   "source": []
  }
 ],
 "metadata": {
  "kernelspec": {
   "display_name": "Python [conda env:keras_study]",
   "language": "python",
   "name": "conda-env-keras_study-py"
  },
  "language_info": {
   "codemirror_mode": {
    "name": "ipython",
    "version": 3
   },
   "file_extension": ".py",
   "mimetype": "text/x-python",
   "name": "python",
   "nbconvert_exporter": "python",
   "pygments_lexer": "ipython3",
   "version": "3.6.8"
  }
 },
 "nbformat": 4,
 "nbformat_minor": 2
}
