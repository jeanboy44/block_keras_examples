{
 "cells": [
  {
   "cell_type": "markdown",
   "metadata": {},
   "source": [
    "## 학습된 모델 저장하기 "
   ]
  },
  {
   "cell_type": "code",
   "execution_count": 3,
   "metadata": {},
   "outputs": [
    {
     "name": "stdout",
     "output_type": "stream",
     "text": [
      "Train on 42000 samples, validate on 18000 samples\n",
      "Epoch 1/5\n",
      "42000/42000 [==============================] - 4s 103us/step - loss: 0.7696 - acc: 0.8045 - val_loss: 0.4189 - val_acc: 0.8861\n",
      "Epoch 2/5\n",
      "42000/42000 [==============================] - 4s 97us/step - loss: 0.3847 - acc: 0.8944 - val_loss: 0.3425 - val_acc: 0.9032\n",
      "Epoch 3/5\n",
      "42000/42000 [==============================] - 4s 99us/step - loss: 0.3312 - acc: 0.9067 - val_loss: 0.3115 - val_acc: 0.9124\n",
      "Epoch 4/5\n",
      "42000/42000 [==============================] - 4s 99us/step - loss: 0.3015 - acc: 0.9146 - val_loss: 0.2910 - val_acc: 0.9188\n",
      "Epoch 5/5\n",
      "42000/42000 [==============================] - 4s 99us/step - loss: 0.2802 - acc: 0.9211 - val_loss: 0.2746 - val_acc: 0.9234\n",
      "10000/10000 [==============================] - 0s 33us/step\n",
      "\n",
      "loss_and_metrics : [0.2618114687979221, 0.9283]\n"
     ]
    }
   ],
   "source": [
    "# 86p\n",
    "\n",
    "# 0. 사용할 패키지 불러오기\n",
    "from keras.utils import np_utils\n",
    "from keras.datasets import mnist\n",
    "from keras.models import Sequential\n",
    "from keras.layers import Dense, Activation\n",
    "import numpy as np\n",
    "from numpy import argmax\n",
    "\n",
    "# 1. 데이터셋 생성하기\n",
    "\n",
    "# 훈련셋과 시험셋 불러오기\n",
    "(x_train, y_train), (x_test, y_test) = mnist.load_data()\n",
    "\n",
    "# 데이터셋 전처리\n",
    "x_train = x_train.reshape(60000, 784).astype('float32') / 255.0\n",
    "x_test = x_test.reshape(10000, 784).astype('float32') / 255.0\n",
    "\n",
    "# 라원핫인코딩 (one-hot encoding) 처리\n",
    "y_train = np_utils.to_categorical(y_train)\n",
    "y_test = np_utils.to_categorical(y_test)\n",
    "\n",
    "# 훈련셋과 검증셋 분리\n",
    "x_val = x_train[42000:] # 훈련셋의 30%를 검증셋으로 사용\n",
    "x_train = x_train[:42000]\n",
    "y_val = y_train[42000:] # 훈련셋의 30%를 검증셋으로 사용\n",
    "y_train = y_train[:42000]\n",
    "\n",
    "# 2. 모델 구성하기\n",
    "model = Sequential()\n",
    "model.add(Dense(units=64, input_dim=28*28, activation='relu'))\n",
    "model.add(Dense(units=10, activation='softmax'))\n",
    "\n",
    "# 3. 모델 학습과정 설정하기\n",
    "model.compile(loss='categorical_crossentropy', optimizer='sgd', metrics=['accuracy'])\n",
    "\n",
    "# 4. 모델 학습시키기\n",
    "model.fit(x_train, y_train, epochs=5, batch_size=32, validation_data=(x_val, y_val))\n",
    "\n",
    "# 5. 모델 평가하기\n",
    "loss_and_metrics = model.evaluate(x_test, y_test, batch_size=32)\n",
    "\n",
    "print('')\n",
    "print('loss_and_metrics : ' + str(loss_and_metrics))\n",
    "\n",
    "# 6. 모델 저장하기\n",
    "from keras.models import load_model\n",
    "model.save('mnist_mlp_model.h5')"
   ]
  },
  {
   "cell_type": "markdown",
   "metadata": {},
   "source": [
    "## 모델 아키텍처 보기"
   ]
  },
  {
   "cell_type": "code",
   "execution_count": 4,
   "metadata": {},
   "outputs": [
    {
     "data": {
      "image/svg+xml": [
       "<svg height=\"211pt\" viewBox=\"0.00 0.00 251.00 211.00\" width=\"251pt\" xmlns=\"http://www.w3.org/2000/svg\" xmlns:xlink=\"http://www.w3.org/1999/xlink\">\n",
       "<g class=\"graph\" id=\"graph0\" transform=\"scale(1 1) rotate(0) translate(4 207)\">\n",
       "<title>G</title>\n",
       "<polygon fill=\"white\" points=\"-4,4 -4,-207 247,-207 247,4 -4,4\" stroke=\"none\"/>\n",
       "<!-- 2770682884280 -->\n",
       "<g class=\"node\" id=\"node1\"><title>2770682884280</title>\n",
       "<polygon fill=\"none\" points=\"0,-83.5 0,-129.5 243,-129.5 243,-83.5 0,-83.5\" stroke=\"black\"/>\n",
       "<text font-family=\"Times New Roman,serif\" font-size=\"14.00\" text-anchor=\"middle\" x=\"52\" y=\"-102.8\">dense_3: Dense</text>\n",
       "<polyline fill=\"none\" points=\"104,-83.5 104,-129.5 \" stroke=\"black\"/>\n",
       "<text font-family=\"Times New Roman,serif\" font-size=\"14.00\" text-anchor=\"middle\" x=\"132\" y=\"-114.3\">input:</text>\n",
       "<polyline fill=\"none\" points=\"104,-106.5 160,-106.5 \" stroke=\"black\"/>\n",
       "<text font-family=\"Times New Roman,serif\" font-size=\"14.00\" text-anchor=\"middle\" x=\"132\" y=\"-91.3\">output:</text>\n",
       "<polyline fill=\"none\" points=\"160,-83.5 160,-129.5 \" stroke=\"black\"/>\n",
       "<text font-family=\"Times New Roman,serif\" font-size=\"14.00\" text-anchor=\"middle\" x=\"201.5\" y=\"-114.3\">(None, 784)</text>\n",
       "<polyline fill=\"none\" points=\"160,-106.5 243,-106.5 \" stroke=\"black\"/>\n",
       "<text font-family=\"Times New Roman,serif\" font-size=\"14.00\" text-anchor=\"middle\" x=\"201.5\" y=\"-91.3\">(None, 64)</text>\n",
       "</g>\n",
       "<!-- 2776627393032 -->\n",
       "<g class=\"node\" id=\"node2\"><title>2776627393032</title>\n",
       "<polygon fill=\"none\" points=\"3,-0.5 3,-46.5 240,-46.5 240,-0.5 3,-0.5\" stroke=\"black\"/>\n",
       "<text font-family=\"Times New Roman,serif\" font-size=\"14.00\" text-anchor=\"middle\" x=\"55\" y=\"-19.8\">dense_4: Dense</text>\n",
       "<polyline fill=\"none\" points=\"107,-0.5 107,-46.5 \" stroke=\"black\"/>\n",
       "<text font-family=\"Times New Roman,serif\" font-size=\"14.00\" text-anchor=\"middle\" x=\"135\" y=\"-31.3\">input:</text>\n",
       "<polyline fill=\"none\" points=\"107,-23.5 163,-23.5 \" stroke=\"black\"/>\n",
       "<text font-family=\"Times New Roman,serif\" font-size=\"14.00\" text-anchor=\"middle\" x=\"135\" y=\"-8.3\">output:</text>\n",
       "<polyline fill=\"none\" points=\"163,-0.5 163,-46.5 \" stroke=\"black\"/>\n",
       "<text font-family=\"Times New Roman,serif\" font-size=\"14.00\" text-anchor=\"middle\" x=\"201.5\" y=\"-31.3\">(None, 64)</text>\n",
       "<polyline fill=\"none\" points=\"163,-23.5 240,-23.5 \" stroke=\"black\"/>\n",
       "<text font-family=\"Times New Roman,serif\" font-size=\"14.00\" text-anchor=\"middle\" x=\"201.5\" y=\"-8.3\">(None, 10)</text>\n",
       "</g>\n",
       "<!-- 2770682884280&#45;&gt;2776627393032 -->\n",
       "<g class=\"edge\" id=\"edge2\"><title>2770682884280-&gt;2776627393032</title>\n",
       "<path d=\"M121.5,-83.3664C121.5,-75.1516 121.5,-65.6579 121.5,-56.7252\" fill=\"none\" stroke=\"black\"/>\n",
       "<polygon fill=\"black\" points=\"125,-56.6068 121.5,-46.6068 118,-56.6069 125,-56.6068\" stroke=\"black\"/>\n",
       "</g>\n",
       "<!-- 2776627216336 -->\n",
       "<g class=\"node\" id=\"node3\"><title>2776627216336</title>\n",
       "<polygon fill=\"none\" points=\"69.5,-166.5 69.5,-202.5 173.5,-202.5 173.5,-166.5 69.5,-166.5\" stroke=\"black\"/>\n",
       "<text font-family=\"Times New Roman,serif\" font-size=\"14.00\" text-anchor=\"middle\" x=\"121.5\" y=\"-180.8\">2776627216336</text>\n",
       "</g>\n",
       "<!-- 2776627216336&#45;&gt;2770682884280 -->\n",
       "<g class=\"edge\" id=\"edge1\"><title>2776627216336-&gt;2770682884280</title>\n",
       "<path d=\"M121.5,-166.254C121.5,-158.363 121.5,-148.749 121.5,-139.602\" fill=\"none\" stroke=\"black\"/>\n",
       "<polygon fill=\"black\" points=\"125,-139.591 121.5,-129.591 118,-139.591 125,-139.591\" stroke=\"black\"/>\n",
       "</g>\n",
       "</g>\n",
       "</svg>"
      ],
      "text/plain": [
       "<IPython.core.display.SVG object>"
      ]
     },
     "execution_count": 4,
     "metadata": {},
     "output_type": "execute_result"
    }
   ],
   "source": [
    "from IPython.display import SVG\n",
    "from keras.utils.vis_utils import model_to_dot\n",
    "\n",
    "%matplotlib inline\n",
    "\n",
    "SVG(model_to_dot(model, show_shapes=True).create(prog='dot', format='svg'))"
   ]
  },
  {
   "cell_type": "markdown",
   "metadata": {},
   "source": [
    "## 학습된 모델 불러오기"
   ]
  },
  {
   "cell_type": "code",
   "execution_count": 5,
   "metadata": {},
   "outputs": [
    {
     "name": "stdout",
     "output_type": "stream",
     "text": [
      "True : 2, Predict : 2\n",
      "True : 7, Predict : 7\n",
      "True : 0, Predict : 0\n",
      "True : 0, Predict : 0\n",
      "True : 1, Predict : 1\n"
     ]
    }
   ],
   "source": [
    "# 0. 사용할 패키지 불러오기\n",
    "from keras.utils import np_utils\n",
    "from keras.datasets import mnist\n",
    "from keras.models import Sequential\n",
    "from keras.layers import Dense, Activation\n",
    "import numpy as np\n",
    "from numpy import argmax\n",
    "\n",
    "# 1. 실무에 사용할 데이터 준비하기\n",
    "(x_train, y_train), (x_test, y_test) = mnist.load_data()\n",
    "x_test = x_test.reshape(10000, 784).astype('float32') / 255.0\n",
    "y_test = np_utils.to_categorical(y_test)\n",
    "xhat_idx = np.random.choice(x_test.shape[0], 5)\n",
    "xhat = x_test[xhat_idx]\n",
    "\n",
    "# 2. 모델 불러오기\n",
    "from keras.models import load_model\n",
    "model = load_model('mnist_mlp_model.h5')\n",
    "\n",
    "# 3. 모델 사용하기\n",
    "yhat = model.predict_classes(xhat)\n",
    "\n",
    "for i in range(5):\n",
    "    print('True : ' + str(argmax(y_test[xhat_idx[i]])) + ', Predict : ' + str(yhat[i]))"
   ]
  },
  {
   "cell_type": "code",
   "execution_count": null,
   "metadata": {},
   "outputs": [],
   "source": []
  }
 ],
 "metadata": {
  "kernelspec": {
   "display_name": "Python [conda env:keras_study]",
   "language": "python",
   "name": "conda-env-keras_study-py"
  },
  "language_info": {
   "codemirror_mode": {
    "name": "ipython",
    "version": 3
   },
   "file_extension": ".py",
   "mimetype": "text/x-python",
   "name": "python",
   "nbconvert_exporter": "python",
   "pygments_lexer": "ipython3",
   "version": "3.6.8"
  }
 },
 "nbformat": 4,
 "nbformat_minor": 2
}
